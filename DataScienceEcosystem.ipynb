{
 "cells": [
  {
   "cell_type": "markdown",
   "id": "6788bec2-f6b5-4129-bc9e-25a1aa0bcc57",
   "metadata": {
    "tags": []
   },
   "source": [
    "# Data Science Tools and Ecosystem"
   ]
  },
  {
   "cell_type": "markdown",
   "id": "a5b2d916-3937-4e33-944d-278e4f9d02aa",
   "metadata": {
    "tags": []
   },
   "source": [
    "In this notebook, Data Science Tools and Ecosystems are summarized."
   ]
  },
  {
   "cell_type": "markdown",
   "id": "25f0e434-9ad9-4b24-be93-8443f5733318",
   "metadata": {},
   "source": [
    "Some of the popular languages that Data Scientists use are:\n",
    "1. R\n",
    "2. PYTHON\n",
    "3. SQL\n",
    "4. JAVA\n",
    "5. C++"
   ]
  },
  {
   "cell_type": "markdown",
   "id": "faf813f6-9284-4d5a-bc09-054b71dd7025",
   "metadata": {},
   "source": [
    "Some of the commonly used libraries used by Data Scientists are:\n",
    "1. NumPy\n",
    "2. SciPy\n",
    "3. matplotlib\n",
    "4. keras\n",
    "5. scikit\n",
    "6. pytorch"
   ]
  },
  {
   "cell_type": "markdown",
   "id": "5b7391d5-2000-4b99-a9dc-a6186a404b99",
   "metadata": {
    "tags": []
   },
   "source": [
    "__Objective__\n",
    "* list popular languages for data science\n",
    "* list popular libraries for data science\n",
    "* list of well known Data Science Tools\n",
    "* How to provide comments in the cell"
   ]
  },
  {
   "cell_type": "markdown",
   "id": "ad01aa7e-1545-403a-9c09-2cc1a3c92fd0",
   "metadata": {},
   "source": [
    "| Data Science Tools |\n",
    "|---|\n",
    "| SAS |\n",
    "| Apache Hadoop |\n",
    "| Tensorflow |"
   ]
  },
  {
   "cell_type": "markdown",
   "id": "2e050ded-5578-413b-9fdd-3665556977b8",
   "metadata": {},
   "source": [
    "### Below are few examples of evaluating arithmetic expressions using python :"
   ]
  },
  {
   "cell_type": "code",
   "execution_count": 3,
   "id": "53e15ec7-ae07-48d7-b770-cd0d215b9575",
   "metadata": {
    "tags": []
   },
   "outputs": [
    {
     "data": {
      "text/plain": [
       "17"
      ]
     },
     "execution_count": 3,
     "metadata": {},
     "output_type": "execute_result"
    }
   ],
   "source": [
    "# This is simple arithmetic expression to multiply and then add integers\n",
    "(3*4)+5"
   ]
  },
  {
   "cell_type": "code",
   "execution_count": 4,
   "id": "f4657d8c-0f14-42f8-bef8-a57e1aee25fe",
   "metadata": {
    "tags": []
   },
   "outputs": [
    {
     "data": {
      "text/plain": [
       "3.3333333333333335"
      ]
     },
     "execution_count": 4,
     "metadata": {},
     "output_type": "execute_result"
    }
   ],
   "source": [
    "# This will convert minutes into hours by dividing by 60\n",
    "200/60"
   ]
  },
  {
   "cell_type": "markdown",
   "id": "04d3687e-35f5-4efe-a728-c45ca2e9c78a",
   "metadata": {},
   "source": [
    "## Author\n",
    "Alok Kumar Yadav"
   ]
  },
  {
   "cell_type": "code",
   "execution_count": null,
   "id": "eea6da3a-735b-4356-9c80-04c642ff770e",
   "metadata": {},
   "outputs": [],
   "source": []
  }
 ],
 "metadata": {
  "kernelspec": {
   "display_name": "Python",
   "language": "python",
   "name": "conda-env-python-py"
  },
  "language_info": {
   "codemirror_mode": {
    "name": "ipython",
    "version": 3
   },
   "file_extension": ".py",
   "mimetype": "text/x-python",
   "name": "python",
   "nbconvert_exporter": "python",
   "pygments_lexer": "ipython3",
   "version": "3.7.12"
  }
 },
 "nbformat": 4,
 "nbformat_minor": 5
}
